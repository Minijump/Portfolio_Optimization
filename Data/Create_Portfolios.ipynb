{
 "cells": [
  {
   "attachments": {},
   "cell_type": "markdown",
   "metadata": {},
   "source": [
    "# Creation of the portfolios\n",
    "\n",
    "To compute the efficient frontier (and the optimal portfolios), risk and returns of any portfolios have to be computed. This part will create a csv file with the characteristics of different possible portfolios:\n",
    "\n",
    "Each lines will represent a different portfolio, with, for eah assets (oil, gas, wheat), the weight of this asset in the portfolio. Weights changes by range of 5%."
   ]
  },
  {
   "cell_type": "code",
   "execution_count": 9,
   "metadata": {},
   "outputs": [
    {
     "name": "stdout",
     "output_type": "stream",
     "text": [
      "num portfolios: 225\n"
     ]
    }
   ],
   "source": [
    "import pandas as pd\n",
    "\n",
    "assets = ['Natural Gas', 'Crude Oil', 'Chicago Wheat']\n",
    "n_assets = len(assets)\n",
    "weight_steps = [0.0, 0.05, 0.1, 0.15, 0.2, 0.25, 0.3, 0.35, 0.4, 0.45, 0.5, 0.55, 0.6, 0.65, 0.7, 0.75, 0.8, 0.85, 0.9, 0.95, 1.0]\n",
    "n_weights = len(weight_steps)\n",
    "\n",
    "weights = []\n",
    "for i in range(n_weights):\n",
    "    for j in range(n_weights):\n",
    "        for k in range(n_weights):\n",
    "            if weight_steps[i] + weight_steps[j] + weight_steps[k] == 1.0:\n",
    "                weights.append([weight_steps[i], weight_steps[j], weight_steps[k]])\n",
    "\n",
    "# Create dataframe\n",
    "df = pd.DataFrame(weights, columns=assets)\n",
    "\n",
    "print('num portfolios:', df.shape[0])\n",
    "\n",
    "df.to_csv('portfolios.csv', index=False)\n"
   ]
  }
 ],
 "metadata": {
  "kernelspec": {
   "display_name": "base",
   "language": "python",
   "name": "python3"
  },
  "language_info": {
   "codemirror_mode": {
    "name": "ipython",
    "version": 3
   },
   "file_extension": ".py",
   "mimetype": "text/x-python",
   "name": "python",
   "nbconvert_exporter": "python",
   "pygments_lexer": "ipython3",
   "version": "3.8.15"
  },
  "orig_nbformat": 4
 },
 "nbformat": 4,
 "nbformat_minor": 2
}
