{
 "cells": [
  {
   "attachments": {},
   "cell_type": "markdown",
   "metadata": {},
   "source": [
    "# Analysis of the finance vocabulary\n",
    "\n",
    "This file is a support to understand the different vocabulary of finance I will have to use to build my dashboards."
   ]
  },
  {
   "attachments": {},
   "cell_type": "markdown",
   "metadata": {},
   "source": [
    "### Historical return\n",
    "\n",
    "The historical return is the historical return on investment (ROI) of an asset. The formula, for a ROI between time _t_ and _t+1_, is the following:\n",
    "$$ r = {Price(t+1) - Price(i)\\over Price(t)}$$\n",
    "\n",
    "Note that in a similar way you can compute the __average historical return__"
   ]
  },
  {
   "attachments": {},
   "cell_type": "markdown",
   "metadata": {},
   "source": [
    "### Historical Volatility\n",
    "\n",
    "Historical volatility is a measure of the amount of variation or dispersion in the price of an asset over a specified period of time. It is calculated by analyzing the past prices of the asset and calculating the standard deviation of the coumpounded returns over the period.\n",
    "$$Volatility = Standard\\_Deviation(C_{r})$$\n",
    "with:\n",
    "$$C_r = ln({Price(t+1) \\over Price(t)})$$"
   ]
  },
  {
   "attachments": {},
   "cell_type": "markdown",
   "metadata": {},
   "source": [
    "### Return and volatility for a larger time period\n",
    "The volatility and return for a larger time period can be computed from the volatility/return for a shorter time period with the following formula:\n",
    "\n",
    "$$r(T) = (1+r(t))^{(T/t)} - 1$$\n",
    "$$Vol(T) = Vol(t) * \\sqrt{T/t}$$\n",
    "with: __T__ the large period and __t__ the short one"
   ]
  },
  {
   "attachments": {},
   "cell_type": "markdown",
   "metadata": {},
   "source": [
    "### Mean Variance Analysis\n",
    "\n",
    "Mean variance analysis is a financial tool used to evaluate the performance of a portfolio. It involves calculating the expected return and variance of each asset in the portfolio, and then combining them to determine the expected return and variance of the entire portfolio. \n",
    "\n",
    "The __mean__ of a portfolio is easy to have, it is the return of each assets multiplied by their weights in the portfolio:\n",
    "\n",
    "$$r = \\sum_{i=1}^{n}w_i * r_i$$\n",
    "with:\n",
    "* n = number of different assets in the portfolio\n",
    "* $w_i$ = the weight of the asset i in the portfolio\n",
    "* $r_i$ = the return of the asset i\n",
    "\n",
    "The __Variance__ is a bit more complex:\n",
    "\n",
    "$$ var = \\sum_{i=1}^{n} (w_i*Var(r_i)) + \\sum_{i=1}^{n}\\sum_{j=1}^{n} (2*w_i*w_j*cov(r_i,r_j))$$\n",
    "\n",
    "with:\n",
    "* n = number of different assets in the portfolio\n",
    "* $w_i$ = the weight of the asset i in the portfolio\n",
    "* $r_i$ = the return of the asset i\n",
    "* Var($r_i$) = the variance of the asset i\n",
    "* Cov($r_i$, $r_j$) = the covariance between (the returns of) the assets i and j\n",
    "\n",
    "Note that the variance can be implemented matricialy:\n",
    "\n",
    "$$var = W^T * V * W$$\n",
    "\n",
    "with:\n",
    "* W (Nx1) of the weights\n",
    "* V (NxN) the matrix of the covariance between assets i and j"
   ]
  },
  {
   "attachments": {},
   "cell_type": "markdown",
   "metadata": {},
   "source": [
    "### Efficient frontier\n",
    "The efficient frontier plot is a graph that displays portfolios, on a graph with in x-axis the risk (volatility) and in y axis the return\n",
    "The efficient frontier is the set of optimal portfolios that offer the highest expected return for a defined level of risk or the lowest risk for a given level of expected return. Portfolios that lie below the efficient frontier are sub-optimal because they do not provide enough return for the level of risk. Portfolios that cluster to the right of the efficient frontier are sub-optimal because they have a higher level of risk for the defined rate of return.\n",
    "\n",
    "<img title=\"Efficient Frontier\" alt=\"eff frontier\" src=\"./Images/eff_frontier.png\" width=\"300\">"
   ]
  },
  {
   "attachments": {},
   "cell_type": "markdown",
   "metadata": {},
   "source": [
    "### Sharpe ratio\n",
    "The sharpe ratio gives us the rentability of a portfolio compared to a riskfree investment.\n",
    "\n",
    "$$ S = {R - r_f \\over \\sigma}$$\n",
    "\n",
    "with: \n",
    "* R the return of the portfolio\n",
    "* $r_f$ the riskfree return (annual return of the US treasury bill is 0.29%)\n",
    "* $\\sigma$ the volatility of the portfolio\n",
    "\n",
    "The portfolio with the highest Sharpe ratio is called the _market portfolio_ and is supposed to be the best compromise between risk and return considering the riskfree return."
   ]
  },
  {
   "attachments": {},
   "cell_type": "markdown",
   "metadata": {},
   "source": [
    "### Sortino ratio\n",
    "\n",
    "The sortino ratio is the sharpe ratio but the volatility is computed on negative returns only, this ratio is then supposed to better represent the risk of losing money"
   ]
  }
 ],
 "metadata": {
  "language_info": {
   "name": "python"
  },
  "orig_nbformat": 4
 },
 "nbformat": 4,
 "nbformat_minor": 2
}
